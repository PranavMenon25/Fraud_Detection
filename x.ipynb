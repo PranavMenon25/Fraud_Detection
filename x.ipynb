{
 "cells": [
  {
   "cell_type": "code",
   "execution_count": 10,
   "id": "0a759d9d",
   "metadata": {},
   "outputs": [],
   "source": [
    "import pandas as pd\n",
    "import numpy as np\n",
    "import seaborn as sns\n",
    "import matplotlib.pyplot as plt"
   ]
  },
  {
   "cell_type": "code",
   "execution_count": 11,
   "id": "75ffd70e",
   "metadata": {},
   "outputs": [],
   "source": [
    "data = pd.read_excel(\"python.xlsm\")"
   ]
  },
  {
   "cell_type": "code",
   "execution_count": 13,
   "id": "4d8982d9",
   "metadata": {},
   "outputs": [
    {
     "data": {
      "text/html": [
       "<div>\n",
       "<style scoped>\n",
       "    .dataframe tbody tr th:only-of-type {\n",
       "        vertical-align: middle;\n",
       "    }\n",
       "\n",
       "    .dataframe tbody tr th {\n",
       "        vertical-align: top;\n",
       "    }\n",
       "\n",
       "    .dataframe thead th {\n",
       "        text-align: right;\n",
       "    }\n",
       "</style>\n",
       "<table border=\"1\" class=\"dataframe\">\n",
       "  <thead>\n",
       "    <tr style=\"text-align: right;\">\n",
       "      <th></th>\n",
       "      <th>transaction_id</th>\n",
       "      <th>sender_id</th>\n",
       "      <th>receiver_id</th>\n",
       "      <th>transaction_date</th>\n",
       "      <th>amount</th>\n",
       "      <th>dist_trx</th>\n",
       "      <th>fraud_flag</th>\n",
       "      <th>customer_name</th>\n",
       "      <th>age</th>\n",
       "      <th>residence_state</th>\n",
       "      <th>gender</th>\n",
       "    </tr>\n",
       "  </thead>\n",
       "  <tbody>\n",
       "    <tr>\n",
       "      <th>0</th>\n",
       "      <td>1</td>\n",
       "      <td>31</td>\n",
       "      <td>240</td>\n",
       "      <td>26-09-2021</td>\n",
       "      <td>22.2</td>\n",
       "      <td>248.6</td>\n",
       "      <td>0</td>\n",
       "      <td>gulshan</td>\n",
       "      <td>54</td>\n",
       "      <td>Haryana</td>\n",
       "      <td>M</td>\n",
       "    </tr>\n",
       "    <tr>\n",
       "      <th>1</th>\n",
       "      <td>2</td>\n",
       "      <td>859</td>\n",
       "      <td>331</td>\n",
       "      <td>28-09-2021</td>\n",
       "      <td>601.1</td>\n",
       "      <td>352.9</td>\n",
       "      <td>0</td>\n",
       "      <td>deepu</td>\n",
       "      <td>45</td>\n",
       "      <td>Punjab</td>\n",
       "      <td>M</td>\n",
       "    </tr>\n",
       "    <tr>\n",
       "      <th>2</th>\n",
       "      <td>3</td>\n",
       "      <td>684</td>\n",
       "      <td>415</td>\n",
       "      <td>23-08-2021</td>\n",
       "      <td>533.8</td>\n",
       "      <td>89.0</td>\n",
       "      <td>0</td>\n",
       "      <td>vishal</td>\n",
       "      <td>34</td>\n",
       "      <td>Punjab</td>\n",
       "      <td>M</td>\n",
       "    </tr>\n",
       "    <tr>\n",
       "      <th>3</th>\n",
       "      <td>4</td>\n",
       "      <td>999</td>\n",
       "      <td>845</td>\n",
       "      <td>24-10-2021</td>\n",
       "      <td>207.3</td>\n",
       "      <td>410.6</td>\n",
       "      <td>0</td>\n",
       "      <td>chain singh @ ravi</td>\n",
       "      <td>34</td>\n",
       "      <td>Punjab</td>\n",
       "      <td>M</td>\n",
       "    </tr>\n",
       "    <tr>\n",
       "      <th>4</th>\n",
       "      <td>5</td>\n",
       "      <td>163</td>\n",
       "      <td>830</td>\n",
       "      <td>15-09-2021</td>\n",
       "      <td>231.0</td>\n",
       "      <td>168.4</td>\n",
       "      <td>0</td>\n",
       "      <td>axat</td>\n",
       "      <td>27</td>\n",
       "      <td>Punjab</td>\n",
       "      <td>M</td>\n",
       "    </tr>\n",
       "  </tbody>\n",
       "</table>\n",
       "</div>"
      ],
      "text/plain": [
       "   transaction_id  sender_id  receiver_id transaction_date  amount  dist_trx  \\\n",
       "0               1         31          240       26-09-2021    22.2     248.6   \n",
       "1               2        859          331       28-09-2021   601.1     352.9   \n",
       "2               3        684          415       23-08-2021   533.8      89.0   \n",
       "3               4        999          845       24-10-2021   207.3     410.6   \n",
       "4               5        163          830       15-09-2021   231.0     168.4   \n",
       "\n",
       "   fraud_flag       customer_name  age residence_state gender  \n",
       "0           0             gulshan   54         Haryana      M  \n",
       "1           0               deepu   45          Punjab      M  \n",
       "2           0              vishal   34          Punjab      M  \n",
       "3           0  chain singh @ ravi   34          Punjab      M  \n",
       "4           0                axat   27          Punjab      M  "
      ]
     },
     "execution_count": 13,
     "metadata": {},
     "output_type": "execute_result"
    }
   ],
   "source": [
    "data.head()"
   ]
  },
  {
   "cell_type": "code",
   "execution_count": 10,
   "id": "72fcfd1d",
   "metadata": {},
   "outputs": [],
   "source": [
    "# Show sender amount by state using Bar Graph."
   ]
  },
  {
   "cell_type": "code",
   "execution_count": 20,
   "id": "b8657e47",
   "metadata": {},
   "outputs": [
    {
     "name": "stdout",
     "output_type": "stream",
     "text": [
      "residence_state\n",
      "Delhi           6431.3\n",
      "Gujarat        14841.2\n",
      "Haryana       269826.8\n",
      "Punjab       1182312.8\n",
      "Rajasthan     549542.4\n",
      "Name: amount, dtype: float64\n"
     ]
    }
   ],
   "source": [
    "Total = data.groupby(['residence_state'])['amount'].sum()\n",
    "print(Total)"
   ]
  },
  {
   "cell_type": "code",
   "execution_count": 21,
   "id": "e6c8e975",
   "metadata": {},
   "outputs": [
    {
     "data": {
      "image/png": "[encoded data removed]",
      "text/plain": [
       "<Figure size 640x480 with 1 Axes>"
      ]
     },
     "metadata": {},
     "output_type": "display_data"
    }
   ],
   "source": [
    "amount = Total.plot(kind=\"bar\")"
   ]
  },
  {
   "cell_type": "code",
   "execution_count": null,
   "id": "168e916d",
   "metadata": {},
   "outputs": [],
   "source": []
  }
 ],
 "metadata": {
  "kernelspec": {
   "display_name": "Python 3 (ipykernel)",
   "language": "python",
   "name": "python3"
  },
  "language_info": {
   "codemirror_mode": {
    "name": "ipython",
    "version": 3
   },
   "file_extension": ".py",
   "mimetype": "text/x-python",
   "name": "python",
   "nbconvert_exporter": "python",
   "pygments_lexer": "ipython3",
   "version": "3.9.13"
  }
 },
 "nbformat": 4,
 "nbformat_minor": 5
}
