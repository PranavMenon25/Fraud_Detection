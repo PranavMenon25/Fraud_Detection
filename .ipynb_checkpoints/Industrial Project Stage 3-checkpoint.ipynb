{
 "cells": [
  {
   "cell_type": "code",
   "execution_count": 1,
   "id": "616a5c47",
   "metadata": {},
   "outputs": [],
   "source": [
    "import pandas as pd\n",
    "import numpy as np\n",
    "import seaborn as sns\n",
    "import matplotlib.pyplot as plt"
   ]
  },
  {
   "cell_type": "code",
   "execution_count": 93,
   "id": "23491596",
   "metadata": {},
   "outputs": [],
   "source": [
    "data = pd.read_excel(\"python2.xlsx\")"
   ]
  },
  {
   "cell_type": "code",
   "execution_count": 94,
   "id": "b72517ae",
   "metadata": {},
   "outputs": [
    {
     "data": {
      "text/html": [
       "<div>\n",
       "<style scoped>\n",
       "    .dataframe tbody tr th:only-of-type {\n",
       "        vertical-align: middle;\n",
       "    }\n",
       "\n",
       "    .dataframe tbody tr th {\n",
       "        vertical-align: top;\n",
       "    }\n",
       "\n",
       "    .dataframe thead th {\n",
       "        text-align: right;\n",
       "    }\n",
       "</style>\n",
       "<table border=\"1\" class=\"dataframe\">\n",
       "  <thead>\n",
       "    <tr style=\"text-align: right;\">\n",
       "      <th></th>\n",
       "      <th>Sender_id</th>\n",
       "      <th>Sendername</th>\n",
       "      <th>Senderage</th>\n",
       "      <th>Sender_residence</th>\n",
       "      <th>Sender_joining</th>\n",
       "      <th>sender_gender</th>\n",
       "      <th>transaction_id</th>\n",
       "      <th>sender_id</th>\n",
       "      <th>reciever_id</th>\n",
       "      <th>transaction_date</th>\n",
       "      <th>amount</th>\n",
       "      <th>dist_trx</th>\n",
       "      <th>fraud_flag</th>\n",
       "      <th>reciever_id.1</th>\n",
       "      <th>reciever_name</th>\n",
       "      <th>recievers_age</th>\n",
       "      <th>recievers_state</th>\n",
       "      <th>recievers_date_of_joining</th>\n",
       "      <th>recievers_gender</th>\n",
       "    </tr>\n",
       "  </thead>\n",
       "  <tbody>\n",
       "    <tr>\n",
       "      <th>0</th>\n",
       "      <td>1</td>\n",
       "      <td>barjraj</td>\n",
       "      <td>47</td>\n",
       "      <td>Punjab</td>\n",
       "      <td>30-04-2021</td>\n",
       "      <td>M</td>\n",
       "      <td>583</td>\n",
       "      <td>1</td>\n",
       "      <td>346</td>\n",
       "      <td>27-09-2021</td>\n",
       "      <td>730.2</td>\n",
       "      <td>187.2</td>\n",
       "      <td>0</td>\n",
       "      <td>346</td>\n",
       "      <td>ajahar</td>\n",
       "      <td>59</td>\n",
       "      <td>Punjab</td>\n",
       "      <td>14-04-2021</td>\n",
       "      <td>F</td>\n",
       "    </tr>\n",
       "    <tr>\n",
       "      <th>1</th>\n",
       "      <td>20</td>\n",
       "      <td>nahar singh</td>\n",
       "      <td>53</td>\n",
       "      <td>Rajasthan</td>\n",
       "      <td>44504</td>\n",
       "      <td>M</td>\n",
       "      <td>500</td>\n",
       "      <td>20</td>\n",
       "      <td>346</td>\n",
       "      <td>44205</td>\n",
       "      <td>302.8</td>\n",
       "      <td>249.9</td>\n",
       "      <td>0</td>\n",
       "      <td>346</td>\n",
       "      <td>ajahar</td>\n",
       "      <td>59</td>\n",
       "      <td>Punjab</td>\n",
       "      <td>14-04-2021</td>\n",
       "      <td>F</td>\n",
       "    </tr>\n",
       "    <tr>\n",
       "      <th>2</th>\n",
       "      <td>799</td>\n",
       "      <td>khimanand</td>\n",
       "      <td>52</td>\n",
       "      <td>Punjab</td>\n",
       "      <td>44472</td>\n",
       "      <td>M</td>\n",
       "      <td>108</td>\n",
       "      <td>799</td>\n",
       "      <td>1</td>\n",
       "      <td>13-10-2021</td>\n",
       "      <td>356.5</td>\n",
       "      <td>497.6</td>\n",
       "      <td>0</td>\n",
       "      <td>1</td>\n",
       "      <td>barjraj</td>\n",
       "      <td>47</td>\n",
       "      <td>Punjab</td>\n",
       "      <td>30-04-2021</td>\n",
       "      <td>M</td>\n",
       "    </tr>\n",
       "    <tr>\n",
       "      <th>3</th>\n",
       "      <td>516</td>\n",
       "      <td>devender</td>\n",
       "      <td>24</td>\n",
       "      <td>Rajasthan</td>\n",
       "      <td>24-04-2021</td>\n",
       "      <td>F</td>\n",
       "      <td>123</td>\n",
       "      <td>516</td>\n",
       "      <td>1</td>\n",
       "      <td>44205</td>\n",
       "      <td>14.5</td>\n",
       "      <td>326.8</td>\n",
       "      <td>0</td>\n",
       "      <td>1</td>\n",
       "      <td>barjraj</td>\n",
       "      <td>47</td>\n",
       "      <td>Punjab</td>\n",
       "      <td>30-04-2021</td>\n",
       "      <td>M</td>\n",
       "    </tr>\n",
       "    <tr>\n",
       "      <th>4</th>\n",
       "      <td>31</td>\n",
       "      <td>gulshan</td>\n",
       "      <td>54</td>\n",
       "      <td>Haryana</td>\n",
       "      <td>27-04-2021</td>\n",
       "      <td>M</td>\n",
       "      <td>1</td>\n",
       "      <td>31</td>\n",
       "      <td>240</td>\n",
       "      <td>26-09-2021</td>\n",
       "      <td>22.2</td>\n",
       "      <td>248.6</td>\n",
       "      <td>0</td>\n",
       "      <td>240</td>\n",
       "      <td>deepak</td>\n",
       "      <td>28</td>\n",
       "      <td>Rajasthan</td>\n",
       "      <td>44319</td>\n",
       "      <td>M</td>\n",
       "    </tr>\n",
       "  </tbody>\n",
       "</table>\n",
       "</div>"
      ],
      "text/plain": [
       "   Sender_id   Sendername  Senderage Sender_residence Sender_joining  \\\n",
       "0          1      barjraj         47           Punjab     30-04-2021   \n",
       "1         20  nahar singh         53        Rajasthan          44504   \n",
       "2        799    khimanand         52           Punjab          44472   \n",
       "3        516     devender         24        Rajasthan     24-04-2021   \n",
       "4         31      gulshan         54          Haryana     27-04-2021   \n",
       "\n",
       "  sender_gender  transaction_id  sender_id  reciever_id transaction_date  \\\n",
       "0             M             583          1          346       27-09-2021   \n",
       "1             M             500         20          346            44205   \n",
       "2             M             108        799            1       13-10-2021   \n",
       "3             F             123        516            1            44205   \n",
       "4             M               1         31          240       26-09-2021   \n",
       "\n",
       "   amount  dist_trx  fraud_flag  reciever_id.1 reciever_name  recievers_age  \\\n",
       "0   730.2     187.2           0            346        ajahar             59   \n",
       "1   302.8     249.9           0            346        ajahar             59   \n",
       "2   356.5     497.6           0              1       barjraj             47   \n",
       "3    14.5     326.8           0              1       barjraj             47   \n",
       "4    22.2     248.6           0            240        deepak             28   \n",
       "\n",
       "  recievers_state recievers_date_of_joining recievers_gender  \n",
       "0          Punjab                14-04-2021                F  \n",
       "1          Punjab                14-04-2021                F  \n",
       "2          Punjab                30-04-2021                M  \n",
       "3          Punjab                30-04-2021                M  \n",
       "4       Rajasthan                     44319                M  "
      ]
     },
     "execution_count": 94,
     "metadata": {},
     "output_type": "execute_result"
    }
   ],
   "source": [
    "data.head()"
   ]
  },
  {
   "cell_type": "code",
   "execution_count": 95,
   "id": "8531ed1e",
   "metadata": {},
   "outputs": [
    {
     "data": {
      "text/plain": [
       "978"
      ]
     },
     "execution_count": 95,
     "metadata": {},
     "output_type": "execute_result"
    }
   ],
   "source": [
    "data.Sender_id.nunique()"
   ]
  },
  {
   "cell_type": "code",
   "execution_count": 96,
   "id": "ab7e089b",
   "metadata": {},
   "outputs": [
    {
     "data": {
      "text/plain": [
       "array(['Punjab', 'Rajasthan', 'Haryana', 'Delhi', 'Gujarat'], dtype=object)"
      ]
     },
     "execution_count": 96,
     "metadata": {},
     "output_type": "execute_result"
    }
   ],
   "source": [
    "data.Sender_residence.unique()"
   ]
  },
  {
   "cell_type": "code",
   "execution_count": 97,
   "id": "fa543dd8",
   "metadata": {},
   "outputs": [],
   "source": [
    "# Removing unecessary columns"
   ]
  },
  {
   "cell_type": "code",
   "execution_count": 98,
   "id": "713d471f",
   "metadata": {},
   "outputs": [],
   "source": [
    "data = data.drop(columns = 'Sender_id')"
   ]
  },
  {
   "cell_type": "code",
   "execution_count": 99,
   "id": "8cb960b1",
   "metadata": {},
   "outputs": [],
   "source": [
    "data = data.drop(columns = 'Sendername')"
   ]
  },
  {
   "cell_type": "code",
   "execution_count": 100,
   "id": "1fab1db7",
   "metadata": {},
   "outputs": [],
   "source": [
    "data = data.drop(columns =['Senderage', 'Sender_residence'])"
   ]
  },
  {
   "cell_type": "code",
   "execution_count": 101,
   "id": "62084efe",
   "metadata": {},
   "outputs": [],
   "source": [
    "data = data.drop(columns = ['Sender_joining','sender_gender','sender_id','transaction_id','reciever_id','transaction_date','reciever_id.1','reciever_name'])"
   ]
  },
  {
   "cell_type": "code",
   "execution_count": 102,
   "id": "2c6c3aaa",
   "metadata": {},
   "outputs": [],
   "source": [
    "data = data.drop(columns = ['recievers_age','recievers_state','recievers_date_of_joining'])"
   ]
  },
  {
   "cell_type": "code",
   "execution_count": 103,
   "id": "4dd06831",
   "metadata": {},
   "outputs": [],
   "source": [
    "data = data.drop(columns = 'recievers_gender')"
   ]
  },
  {
   "cell_type": "code",
   "execution_count": 104,
   "id": "569e4b6f",
   "metadata": {},
   "outputs": [
    {
     "data": {
      "text/html": [
       "<div>\n",
       "<style scoped>\n",
       "    .dataframe tbody tr th:only-of-type {\n",
       "        vertical-align: middle;\n",
       "    }\n",
       "\n",
       "    .dataframe tbody tr th {\n",
       "        vertical-align: top;\n",
       "    }\n",
       "\n",
       "    .dataframe thead th {\n",
       "        text-align: right;\n",
       "    }\n",
       "</style>\n",
       "<table border=\"1\" class=\"dataframe\">\n",
       "  <thead>\n",
       "    <tr style=\"text-align: right;\">\n",
       "      <th></th>\n",
       "      <th>amount</th>\n",
       "      <th>dist_trx</th>\n",
       "      <th>fraud_flag</th>\n",
       "    </tr>\n",
       "  </thead>\n",
       "  <tbody>\n",
       "    <tr>\n",
       "      <th>3900</th>\n",
       "      <td>177.4</td>\n",
       "      <td>463.7</td>\n",
       "      <td>0</td>\n",
       "    </tr>\n",
       "    <tr>\n",
       "      <th>3901</th>\n",
       "      <td>758.0</td>\n",
       "      <td>163.5</td>\n",
       "      <td>0</td>\n",
       "    </tr>\n",
       "    <tr>\n",
       "      <th>3902</th>\n",
       "      <td>691.9</td>\n",
       "      <td>216.0</td>\n",
       "      <td>0</td>\n",
       "    </tr>\n",
       "    <tr>\n",
       "      <th>3903</th>\n",
       "      <td>550.8</td>\n",
       "      <td>424.9</td>\n",
       "      <td>0</td>\n",
       "    </tr>\n",
       "    <tr>\n",
       "      <th>3904</th>\n",
       "      <td>328.7</td>\n",
       "      <td>386.0</td>\n",
       "      <td>0</td>\n",
       "    </tr>\n",
       "    <tr>\n",
       "      <th>...</th>\n",
       "      <td>...</td>\n",
       "      <td>...</td>\n",
       "      <td>...</td>\n",
       "    </tr>\n",
       "    <tr>\n",
       "      <th>3995</th>\n",
       "      <td>329.0</td>\n",
       "      <td>13.8</td>\n",
       "      <td>0</td>\n",
       "    </tr>\n",
       "    <tr>\n",
       "      <th>3996</th>\n",
       "      <td>550.0</td>\n",
       "      <td>267.2</td>\n",
       "      <td>0</td>\n",
       "    </tr>\n",
       "    <tr>\n",
       "      <th>3997</th>\n",
       "      <td>61.0</td>\n",
       "      <td>137.0</td>\n",
       "      <td>0</td>\n",
       "    </tr>\n",
       "    <tr>\n",
       "      <th>3998</th>\n",
       "      <td>218.3</td>\n",
       "      <td>489.5</td>\n",
       "      <td>0</td>\n",
       "    </tr>\n",
       "    <tr>\n",
       "      <th>3999</th>\n",
       "      <td>2.3</td>\n",
       "      <td>65.2</td>\n",
       "      <td>0</td>\n",
       "    </tr>\n",
       "  </tbody>\n",
       "</table>\n",
       "<p>100 rows × 3 columns</p>\n",
       "</div>"
      ],
      "text/plain": [
       "      amount  dist_trx  fraud_flag\n",
       "3900   177.4     463.7           0\n",
       "3901   758.0     163.5           0\n",
       "3902   691.9     216.0           0\n",
       "3903   550.8     424.9           0\n",
       "3904   328.7     386.0           0\n",
       "...      ...       ...         ...\n",
       "3995   329.0      13.8           0\n",
       "3996   550.0     267.2           0\n",
       "3997    61.0     137.0           0\n",
       "3998   218.3     489.5           0\n",
       "3999     2.3      65.2           0\n",
       "\n",
       "[100 rows x 3 columns]"
      ]
     },
     "execution_count": 104,
     "metadata": {},
     "output_type": "execute_result"
    }
   ],
   "source": [
    "data.tail(100)"
   ]
  },
  {
   "cell_type": "code",
   "execution_count": null,
   "id": "dc2e05dd",
   "metadata": {},
   "outputs": [],
   "source": [
    "# Distributing data into the parameters and the thing to be predicted."
   ]
  },
  {
   "cell_type": "code",
   "execution_count": 111,
   "id": "d1a96a96",
   "metadata": {},
   "outputs": [],
   "source": [
    "X = data.drop(columns = 'fraud_flag')"
   ]
  },
  {
   "cell_type": "code",
   "execution_count": 112,
   "id": "69b4b062",
   "metadata": {},
   "outputs": [
    {
     "data": {
      "text/html": [
       "<div>\n",
       "<style scoped>\n",
       "    .dataframe tbody tr th:only-of-type {\n",
       "        vertical-align: middle;\n",
       "    }\n",
       "\n",
       "    .dataframe tbody tr th {\n",
       "        vertical-align: top;\n",
       "    }\n",
       "\n",
       "    .dataframe thead th {\n",
       "        text-align: right;\n",
       "    }\n",
       "</style>\n",
       "<table border=\"1\" class=\"dataframe\">\n",
       "  <thead>\n",
       "    <tr style=\"text-align: right;\">\n",
       "      <th></th>\n",
       "      <th>amount</th>\n",
       "      <th>dist_trx</th>\n",
       "    </tr>\n",
       "  </thead>\n",
       "  <tbody>\n",
       "    <tr>\n",
       "      <th>0</th>\n",
       "      <td>730.2</td>\n",
       "      <td>187.2</td>\n",
       "    </tr>\n",
       "    <tr>\n",
       "      <th>1</th>\n",
       "      <td>302.8</td>\n",
       "      <td>249.9</td>\n",
       "    </tr>\n",
       "    <tr>\n",
       "      <th>2</th>\n",
       "      <td>356.5</td>\n",
       "      <td>497.6</td>\n",
       "    </tr>\n",
       "    <tr>\n",
       "      <th>3</th>\n",
       "      <td>14.5</td>\n",
       "      <td>326.8</td>\n",
       "    </tr>\n",
       "    <tr>\n",
       "      <th>4</th>\n",
       "      <td>22.2</td>\n",
       "      <td>248.6</td>\n",
       "    </tr>\n",
       "    <tr>\n",
       "      <th>...</th>\n",
       "      <td>...</td>\n",
       "      <td>...</td>\n",
       "    </tr>\n",
       "    <tr>\n",
       "      <th>3995</th>\n",
       "      <td>329.0</td>\n",
       "      <td>13.8</td>\n",
       "    </tr>\n",
       "    <tr>\n",
       "      <th>3996</th>\n",
       "      <td>550.0</td>\n",
       "      <td>267.2</td>\n",
       "    </tr>\n",
       "    <tr>\n",
       "      <th>3997</th>\n",
       "      <td>61.0</td>\n",
       "      <td>137.0</td>\n",
       "    </tr>\n",
       "    <tr>\n",
       "      <th>3998</th>\n",
       "      <td>218.3</td>\n",
       "      <td>489.5</td>\n",
       "    </tr>\n",
       "    <tr>\n",
       "      <th>3999</th>\n",
       "      <td>2.3</td>\n",
       "      <td>65.2</td>\n",
       "    </tr>\n",
       "  </tbody>\n",
       "</table>\n",
       "<p>4000 rows × 2 columns</p>\n",
       "</div>"
      ],
      "text/plain": [
       "      amount  dist_trx\n",
       "0      730.2     187.2\n",
       "1      302.8     249.9\n",
       "2      356.5     497.6\n",
       "3       14.5     326.8\n",
       "4       22.2     248.6\n",
       "...      ...       ...\n",
       "3995   329.0      13.8\n",
       "3996   550.0     267.2\n",
       "3997    61.0     137.0\n",
       "3998   218.3     489.5\n",
       "3999     2.3      65.2\n",
       "\n",
       "[4000 rows x 2 columns]"
      ]
     },
     "execution_count": 112,
     "metadata": {},
     "output_type": "execute_result"
    }
   ],
   "source": [
    "X"
   ]
  },
  {
   "cell_type": "code",
   "execution_count": 113,
   "id": "5acde45e",
   "metadata": {},
   "outputs": [],
   "source": [
    "Y = data['fraud_flag']"
   ]
  },
  {
   "cell_type": "code",
   "execution_count": 114,
   "id": "1e39ac09",
   "metadata": {},
   "outputs": [
    {
     "data": {
      "text/plain": [
       "0       0\n",
       "1       0\n",
       "2       0\n",
       "3       0\n",
       "4       0\n",
       "       ..\n",
       "3995    0\n",
       "3996    0\n",
       "3997    0\n",
       "3998    0\n",
       "3999    0\n",
       "Name: fraud_flag, Length: 4000, dtype: int64"
      ]
     },
     "execution_count": 114,
     "metadata": {},
     "output_type": "execute_result"
    }
   ],
   "source": [
    "Y"
   ]
  },
  {
   "cell_type": "code",
   "execution_count": 115,
   "id": "8872f8cb",
   "metadata": {},
   "outputs": [],
   "source": [
    "from sklearn.model_selection import train_test_split"
   ]
  },
  {
   "cell_type": "code",
   "execution_count": 116,
   "id": "1a7b0b82",
   "metadata": {},
   "outputs": [],
   "source": [
    "X_train, X_test, Y_train, Y_test = train_test_split(X, Y, test_size = 0.3, random_state = 21)"
   ]
  },
  {
   "cell_type": "code",
   "execution_count": 117,
   "id": "d5bbb6ea",
   "metadata": {},
   "outputs": [
    {
     "data": {
      "text/html": [
       "<div>\n",
       "<style scoped>\n",
       "    .dataframe tbody tr th:only-of-type {\n",
       "        vertical-align: middle;\n",
       "    }\n",
       "\n",
       "    .dataframe tbody tr th {\n",
       "        vertical-align: top;\n",
       "    }\n",
       "\n",
       "    .dataframe thead th {\n",
       "        text-align: right;\n",
       "    }\n",
       "</style>\n",
       "<table border=\"1\" class=\"dataframe\">\n",
       "  <thead>\n",
       "    <tr style=\"text-align: right;\">\n",
       "      <th></th>\n",
       "      <th>amount</th>\n",
       "      <th>dist_trx</th>\n",
       "    </tr>\n",
       "  </thead>\n",
       "  <tbody>\n",
       "    <tr>\n",
       "      <th>3132</th>\n",
       "      <td>278.6</td>\n",
       "      <td>316.2</td>\n",
       "    </tr>\n",
       "    <tr>\n",
       "      <th>2299</th>\n",
       "      <td>470.9</td>\n",
       "      <td>38.1</td>\n",
       "    </tr>\n",
       "    <tr>\n",
       "      <th>224</th>\n",
       "      <td>397.8</td>\n",
       "      <td>110.2</td>\n",
       "    </tr>\n",
       "    <tr>\n",
       "      <th>3508</th>\n",
       "      <td>559.6</td>\n",
       "      <td>366.0</td>\n",
       "    </tr>\n",
       "    <tr>\n",
       "      <th>3537</th>\n",
       "      <td>183.2</td>\n",
       "      <td>254.3</td>\n",
       "    </tr>\n",
       "    <tr>\n",
       "      <th>...</th>\n",
       "      <td>...</td>\n",
       "      <td>...</td>\n",
       "    </tr>\n",
       "    <tr>\n",
       "      <th>1856</th>\n",
       "      <td>23.4</td>\n",
       "      <td>340.6</td>\n",
       "    </tr>\n",
       "    <tr>\n",
       "      <th>254</th>\n",
       "      <td>90.1</td>\n",
       "      <td>382.8</td>\n",
       "    </tr>\n",
       "    <tr>\n",
       "      <th>2453</th>\n",
       "      <td>845.9</td>\n",
       "      <td>414.3</td>\n",
       "    </tr>\n",
       "    <tr>\n",
       "      <th>1202</th>\n",
       "      <td>846.2</td>\n",
       "      <td>287.1</td>\n",
       "    </tr>\n",
       "    <tr>\n",
       "      <th>1586</th>\n",
       "      <td>784.9</td>\n",
       "      <td>477.8</td>\n",
       "    </tr>\n",
       "  </tbody>\n",
       "</table>\n",
       "<p>1200 rows × 2 columns</p>\n",
       "</div>"
      ],
      "text/plain": [
       "      amount  dist_trx\n",
       "3132   278.6     316.2\n",
       "2299   470.9      38.1\n",
       "224    397.8     110.2\n",
       "3508   559.6     366.0\n",
       "3537   183.2     254.3\n",
       "...      ...       ...\n",
       "1856    23.4     340.6\n",
       "254     90.1     382.8\n",
       "2453   845.9     414.3\n",
       "1202   846.2     287.1\n",
       "1586   784.9     477.8\n",
       "\n",
       "[1200 rows x 2 columns]"
      ]
     },
     "execution_count": 117,
     "metadata": {},
     "output_type": "execute_result"
    }
   ],
   "source": [
    "X_test"
   ]
  },
  {
   "cell_type": "code",
   "execution_count": null,
   "id": "11593472",
   "metadata": {},
   "outputs": [],
   "source": [
    "# We are scaling data to provide uniform parameters to train the model."
   ]
  },
  {
   "cell_type": "code",
   "execution_count": 118,
   "id": "97166149",
   "metadata": {},
   "outputs": [],
   "source": [
    "from sklearn.preprocessing import StandardScaler"
   ]
  },
  {
   "cell_type": "code",
   "execution_count": 119,
   "id": "961ec734",
   "metadata": {},
   "outputs": [],
   "source": [
    "scaler = StandardScaler()"
   ]
  },
  {
   "cell_type": "code",
   "execution_count": 120,
   "id": "7aaa5ee3",
   "metadata": {},
   "outputs": [],
   "source": [
    "X_tain_scaled = scaler.fit_transform(X_train)"
   ]
  },
  {
   "cell_type": "code",
   "execution_count": 121,
   "id": "fe9051cf",
   "metadata": {},
   "outputs": [],
   "source": [
    "X_test_scaled = scaler.transform(X_test)"
   ]
  },
  {
   "cell_type": "code",
   "execution_count": 123,
   "id": "9f19852a",
   "metadata": {},
   "outputs": [
    {
     "data": {
      "text/plain": [
       "array([[-0.47781562,  0.86637043],\n",
       "       [ 0.81560042, -0.01171982],\n",
       "       [-1.30423202, -0.02774845],\n",
       "       ...,\n",
       "       [-1.45159635, -0.55042121],\n",
       "       [ 1.68664122, -1.03824912],\n",
       "       [-0.02776634, -1.63827746]])"
      ]
     },
     "execution_count": 123,
     "metadata": {},
     "output_type": "execute_result"
    }
   ],
   "source": [
    "X_tain_scaled"
   ]
  },
  {
   "cell_type": "code",
   "execution_count": 124,
   "id": "f8f6eec0",
   "metadata": {},
   "outputs": [
    {
     "data": {
      "text/plain": [
       "array([[-0.7673554 ,  0.44544463],\n",
       "       [-0.10214036, -1.49262598],\n",
       "       [-0.35501201, -0.99016323],\n",
       "       ...,\n",
       "       [ 1.19508086,  1.1291006 ],\n",
       "       [ 1.19611864,  0.24264759],\n",
       "       [ 0.98406621,  1.57163021]])"
      ]
     },
     "execution_count": 124,
     "metadata": {},
     "output_type": "execute_result"
    }
   ],
   "source": [
    "X_test_scaled"
   ]
  },
  {
   "cell_type": "code",
   "execution_count": null,
   "id": "b40a29a9",
   "metadata": {},
   "outputs": [],
   "source": [
    "# import a logistic regression"
   ]
  },
  {
   "cell_type": "code",
   "execution_count": 125,
   "id": "c54072a0",
   "metadata": {},
   "outputs": [],
   "source": [
    "from sklearn.linear_model import LogisticRegression"
   ]
  },
  {
   "cell_type": "code",
   "execution_count": 130,
   "id": "9992186f",
   "metadata": {},
   "outputs": [],
   "source": [
    "log_reg = LogisticRegression(random_state = 0).fit(X_tain_scaled, Y_train)"
   ]
  },
  {
   "cell_type": "code",
   "execution_count": 133,
   "id": "097c161a",
   "metadata": {},
   "outputs": [
    {
     "data": {
      "text/plain": [
       "array([0, 0, 0, ..., 0, 0, 0], dtype=int64)"
      ]
     },
     "execution_count": 133,
     "metadata": {},
     "output_type": "execute_result"
    }
   ],
   "source": [
    "log_reg.predict(X_tain_scaled)"
   ]
  },
  {
   "cell_type": "code",
   "execution_count": 134,
   "id": "caeecfb6",
   "metadata": {},
   "outputs": [
    {
     "data": {
      "text/plain": [
       "0.9842857142857143"
      ]
     },
     "execution_count": 134,
     "metadata": {},
     "output_type": "execute_result"
    }
   ],
   "source": [
    "log_reg.score(X_tain_scaled, Y_train)"
   ]
  },
  {
   "cell_type": "code",
   "execution_count": 135,
   "id": "81bf0a39",
   "metadata": {},
   "outputs": [],
   "source": [
    "# Writing error matrix confusion matrix."
   ]
  },
  {
   "cell_type": "code",
   "execution_count": 137,
   "id": "cdebfac4",
   "metadata": {},
   "outputs": [],
   "source": [
    "from sklearn.metrics import confusion_matrix"
   ]
  },
  {
   "cell_type": "code",
   "execution_count": 142,
   "id": "705b19d5",
   "metadata": {},
   "outputs": [],
   "source": [
    "from sklearn.metrics import ConfusionMatrixDisplay"
   ]
  },
  {
   "cell_type": "code",
   "execution_count": 149,
   "id": "3a50cfbd",
   "metadata": {},
   "outputs": [
    {
     "data": {
      "text/plain": [
       "LogisticRegression(random_state=0)"
      ]
     },
     "execution_count": 149,
     "metadata": {},
     "output_type": "execute_result"
    }
   ],
   "source": [
    "from sklearn.linear_model import LogisticRegression\n",
    "classifier = LogisticRegression(random_state = 0)\n",
    "classifier.fit(X_train, Y_train)"
   ]
  },
  {
   "cell_type": "code",
   "execution_count": 150,
   "id": "55629393",
   "metadata": {},
   "outputs": [],
   "source": [
    "Y_pred = classifier.predict(X_test)"
   ]
  },
  {
   "cell_type": "code",
   "execution_count": 151,
   "id": "9d1aa358",
   "metadata": {},
   "outputs": [
    {
     "name": "stdout",
     "output_type": "stream",
     "text": [
      "Confusion Matrix :\n"
     ]
    },
    {
     "data": {
      "image/png": "[encoded data removed]",
      "text/plain": [
       "<Figure size 640x480 with 2 Axes>"
      ]
     },
     "metadata": {},
     "output_type": "display_data"
    }
   ],
   "source": [
    "ConfusionMatrixDisplay.from_predictions(Y_test, Y_pred)\n",
    "print (\"Confusion Matrix :\")\n",
    "plt.show()"
   ]
  },
  {
   "cell_type": "code",
   "execution_count": null,
   "id": "4a8a89c4",
   "metadata": {},
   "outputs": [],
   "source": []
  }
 ],
 "metadata": {
  "kernelspec": {
   "display_name": "Python 3 (ipykernel)",
   "language": "python",
   "name": "python3"
  },
  "language_info": {
   "codemirror_mode": {
    "name": "ipython",
    "version": 3
   },
   "file_extension": ".py",
   "mimetype": "text/x-python",
   "name": "python",
   "nbconvert_exporter": "python",
   "pygments_lexer": "ipython3",
   "version": "3.9.13"
  }
 },
 "nbformat": 4,
 "nbformat_minor": 5
}
